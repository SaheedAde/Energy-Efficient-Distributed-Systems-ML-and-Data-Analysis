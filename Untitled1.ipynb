{
 "cells": [
  {
   "cell_type": "code",
   "execution_count": 25,
   "id": "8222b715",
   "metadata": {},
   "outputs": [],
   "source": [
    "# 66%\n",
    "\n",
    "from keras.models import Sequential\n",
    "from keras.layers import Dense\n",
    "from keras.layers import LSTM\n",
    "\n",
    "from sklearn.preprocessing import StandardScaler,MinMaxScaler\n",
    "from sklearn.ensemble import RandomForestRegressor\n",
    "from sklearn.metrics import r2_score,mean_squared_error\n",
    "\n",
    "import pandas as pd\n",
    "\n",
    "%matplotlib inline\n",
    "from matplotlib import pylab as plt\n",
    "import matplotlib.dates as mdates\n",
    "plt.rcParams['figure.figsize'] = (15.0, 8.0)\n",
    "import pandas as pd\n",
    "import seaborn as sns\n",
    "\n",
    "from IPython.display import SVG\n",
    "from keras.utils.vis_utils import model_to_dot\n",
    "\n",
    "from pandas.tseries.holiday import USFederalHolidayCalendar as calendar\n",
    "# import bokeh as bk\n",
    "\n",
    "\n",
    "\n",
    "data = pd.read_csv(\"D202.csv\")\n",
    "\n",
    "data[\"DATE_TIME\"] = pd.to_datetime(data.DATE + \" \" + data[\"END TIME\"])\n",
    "data[\"DAY_TYPE\"] = data.DATE_TIME.apply(lambda x: 1 if x.dayofweek > 5 else 0  )\n",
    "cal = calendar()\n",
    "holidays = cal.holidays(start = data.DATE_TIME.min(), end = data.DATE_TIME.max())\n",
    "data[\"IS_HOLIDAY\"] = data.DATE_TIME.isin(holidays)\n",
    "\n",
    "\n",
    "for obs in range(1,6):\n",
    "    data[\"T_\" + str(obs)] = data.USAGE.shift(obs)\n",
    "data.fillna(0.00,inplace=True)\n",
    "data.head(10)\n",
    "\n",
    "data.IS_HOLIDAY = data.IS_HOLIDAY.astype(\"int\")\n",
    "\n",
    "clean_data = data[['DAY_TYPE', 'IS_HOLIDAY', 'T_1','T_2', 'T_3', 'T_4', 'T_5','USAGE']]\n",
    "\n",
    "# old 08/01/2017 ==> 17/2/2018\n",
    "# old 09/01/2017 ==> 18/2/2018\n",
    "training_data = data[data.DATE_TIME < pd.to_datetime(\"17/2/2018\")]\n",
    "val_mask = (data.DATE_TIME >= pd.to_datetime(\"17/2/2018\")) & (data.DATE_TIME < pd.to_datetime(\"18/2/2018\"))\n",
    "val_data = data.loc[val_mask]\n",
    "test_data = data[data.DATE_TIME >= pd.to_datetime(\"18/2/2018\")]\n",
    "\n",
    "clean_train = training_data[['DAY_TYPE', 'IS_HOLIDAY', 'T_1','T_2', 'T_3', 'T_4', 'T_5','USAGE']]\n",
    "clean_test = test_data[['DAY_TYPE', 'IS_HOLIDAY', 'T_1','T_2', 'T_3', 'T_4', 'T_5','USAGE']]\n",
    "clean_val = val_data[['DAY_TYPE', 'IS_HOLIDAY', 'T_1','T_2', 'T_3', 'T_4', 'T_5','USAGE']]\n",
    "\n",
    "\n",
    "X_train,y_train = clean_train.drop([\"USAGE\"],axis=1),clean_train.USAGE\n",
    "X_test,y_test = clean_test.drop([\"USAGE\"],axis=1),clean_test.USAGE\n",
    "X_val,y_val = clean_val.drop([\"USAGE\"],axis=1),clean_val.USAGE\n",
    "\n",
    "scaler = StandardScaler()\n",
    "\n",
    "X_train_scaled = scaler.fit_transform(X_train)\n",
    "X_test_scaled = scaler.fit_transform(X_test)\n",
    "X_valid_scaled = scaler.fit_transform(X_val)\n",
    "\n",
    "# model_k = Sequential()\n",
    "# model_k.add(LSTM(1, input_shape=(1,7)))\n",
    "# model_k.add(Dense(1))\n",
    "# model_k.compile(loss='mean_squared_error', optimizer='adam')\n",
    "# X_val_resaped = X_valid_scaled.reshape((X_valid_scaled.shape[0], 1, X_valid_scaled.shape[1]))\n",
    "# X_t_reshaped = X_train_scaled.reshape((X_train_scaled.shape[0], 1, X_train_scaled.shape[1]))"
   ]
  },
  {
   "cell_type": "code",
   "execution_count": 32,
   "id": "eb3c990d",
   "metadata": {},
   "outputs": [
    {
     "data": {
      "text/plain": [
       "(       DAY_TYPE  IS_HOLIDAY   T_1   T_2   T_3   T_4   T_5\n",
       " 0             0           0  0.00  0.00  0.00  0.00  0.00\n",
       " 1             0           0  0.01  0.00  0.00  0.00  0.00\n",
       " 2             0           0  0.01  0.01  0.00  0.00  0.00\n",
       " 3             0           0  0.01  0.01  0.01  0.00  0.00\n",
       " 4             0           0  0.01  0.01  0.01  0.01  0.00\n",
       " ...         ...         ...   ...   ...   ...   ...   ...\n",
       " 46367         0           0  0.06  0.06  0.06  0.09  0.09\n",
       " 46368         0           0  0.06  0.06  0.06  0.06  0.09\n",
       " 46369         0           0  0.06  0.06  0.06  0.06  0.06\n",
       " 46370         0           0  0.06  0.06  0.06  0.06  0.06\n",
       " 46371         0           0  0.06  0.06  0.06  0.06  0.06\n",
       " \n",
       " [46372 rows x 7 columns],\n",
       " 46372)"
      ]
     },
     "execution_count": 32,
     "metadata": {},
     "output_type": "execute_result"
    }
   ],
   "source": [
    "X_train, len(X_train)\n",
    "# history = model_k.fit(X_t_reshaped, y_train, validation_data=(X_val_resaped, y_val),\\\n",
    "# epochs=10, batch_size=96, verbose=2)"
   ]
  },
  {
   "cell_type": "code",
   "execution_count": 27,
   "id": "9b1a4bb1",
   "metadata": {},
   "outputs": [
    {
     "data": {
      "text/plain": [
       "<matplotlib.legend.Legend at 0x7f4077df99d0>"
      ]
     },
     "execution_count": 27,
     "metadata": {},
     "output_type": "execute_result"
    },
    {
     "data": {
      "image/png": "[encoded data removed]",
      "text/plain": [
       "<Figure size 1080x576 with 1 Axes>"
      ]
     },
     "metadata": {
      "needs_background": "light"
     },
     "output_type": "display_data"
    }
   ],
   "source": [
    "plt.plot(history.history['loss'], label='train')\n",
    "plt.plot(history.history['val_loss'], label='test')\n",
    "plt.legend()\n",
    "\n",
    "# The graph of val_loss against loss"
   ]
  },
  {
   "cell_type": "code",
   "execution_count": 28,
   "id": "c92a0af4",
   "metadata": {},
   "outputs": [
    {
     "name": "stderr",
     "output_type": "stream",
     "text": [
      "<ipython-input-28-f43d9df682a3>:3: SettingWithCopyWarning: \n",
      "A value is trying to be set on a copy of a slice from a DataFrame.\n",
      "Try using .loc[row_indexer,col_indexer] = value instead\n",
      "\n",
      "See the caveats in the documentation: https://pandas.pydata.org/pandas-docs/stable/user_guide/indexing.html#returning-a-view-versus-a-copy\n",
      "  test_data[\"DL_PRED\"] = res\n"
     ]
    }
   ],
   "source": [
    "X_te_reshaped = X_test_scaled.reshape((X_test_scaled.shape[0], 1, X_test_scaled.shape[1]))\n",
    "res = model_k.predict(X_te_reshaped)\n",
    "test_data[\"DL_PRED\"] = res"
   ]
  },
  {
   "cell_type": "code",
   "execution_count": 29,
   "id": "08d87123",
   "metadata": {},
   "outputs": [
    {
     "data": {
      "text/html": [
       "<div>\n",
       "<style scoped>\n",
       "    .dataframe tbody tr th:only-of-type {\n",
       "        vertical-align: middle;\n",
       "    }\n",
       "\n",
       "    .dataframe tbody tr th {\n",
       "        vertical-align: top;\n",
       "    }\n",
       "\n",
       "    .dataframe thead th {\n",
       "        text-align: right;\n",
       "    }\n",
       "</style>\n",
       "<table border=\"1\" class=\"dataframe\">\n",
       "  <thead>\n",
       "    <tr style=\"text-align: right;\">\n",
       "      <th></th>\n",
       "      <th>TYPE</th>\n",
       "      <th>DATE</th>\n",
       "      <th>START TIME</th>\n",
       "      <th>END TIME</th>\n",
       "      <th>USAGE</th>\n",
       "      <th>UNITS</th>\n",
       "      <th>COST</th>\n",
       "      <th>NOTES</th>\n",
       "      <th>DATE_TIME</th>\n",
       "      <th>DAY_TYPE</th>\n",
       "      <th>IS_HOLIDAY</th>\n",
       "      <th>T_1</th>\n",
       "      <th>T_2</th>\n",
       "      <th>T_3</th>\n",
       "      <th>T_4</th>\n",
       "      <th>T_5</th>\n",
       "      <th>DL_PRED</th>\n",
       "    </tr>\n",
       "  </thead>\n",
       "  <tbody>\n",
       "    <tr>\n",
       "      <th>46468</th>\n",
       "      <td>Electric usage</td>\n",
       "      <td>2/18/2018</td>\n",
       "      <td>0:00</td>\n",
       "      <td>0:14</td>\n",
       "      <td>0.11</td>\n",
       "      <td>kWh</td>\n",
       "      <td>$0.02</td>\n",
       "      <td>0.0</td>\n",
       "      <td>2018-02-18 00:14:00</td>\n",
       "      <td>1</td>\n",
       "      <td>0</td>\n",
       "      <td>0.07</td>\n",
       "      <td>0.07</td>\n",
       "      <td>0.07</td>\n",
       "      <td>0.07</td>\n",
       "      <td>0.27</td>\n",
       "      <td>0.025968</td>\n",
       "    </tr>\n",
       "    <tr>\n",
       "      <th>46469</th>\n",
       "      <td>Electric usage</td>\n",
       "      <td>2/18/2018</td>\n",
       "      <td>0:15</td>\n",
       "      <td>0:29</td>\n",
       "      <td>0.11</td>\n",
       "      <td>kWh</td>\n",
       "      <td>$0.02</td>\n",
       "      <td>0.0</td>\n",
       "      <td>2018-02-18 00:29:00</td>\n",
       "      <td>1</td>\n",
       "      <td>0</td>\n",
       "      <td>0.11</td>\n",
       "      <td>0.07</td>\n",
       "      <td>0.07</td>\n",
       "      <td>0.07</td>\n",
       "      <td>0.07</td>\n",
       "      <td>0.125423</td>\n",
       "    </tr>\n",
       "    <tr>\n",
       "      <th>46470</th>\n",
       "      <td>Electric usage</td>\n",
       "      <td>2/18/2018</td>\n",
       "      <td>0:30</td>\n",
       "      <td>0:44</td>\n",
       "      <td>0.11</td>\n",
       "      <td>kWh</td>\n",
       "      <td>$0.02</td>\n",
       "      <td>0.0</td>\n",
       "      <td>2018-02-18 00:44:00</td>\n",
       "      <td>1</td>\n",
       "      <td>0</td>\n",
       "      <td>0.11</td>\n",
       "      <td>0.11</td>\n",
       "      <td>0.07</td>\n",
       "      <td>0.07</td>\n",
       "      <td>0.07</td>\n",
       "      <td>0.122708</td>\n",
       "    </tr>\n",
       "    <tr>\n",
       "      <th>46471</th>\n",
       "      <td>Electric usage</td>\n",
       "      <td>2/18/2018</td>\n",
       "      <td>0:45</td>\n",
       "      <td>0:59</td>\n",
       "      <td>0.11</td>\n",
       "      <td>kWh</td>\n",
       "      <td>$0.02</td>\n",
       "      <td>0.0</td>\n",
       "      <td>2018-02-18 00:59:00</td>\n",
       "      <td>1</td>\n",
       "      <td>0</td>\n",
       "      <td>0.11</td>\n",
       "      <td>0.11</td>\n",
       "      <td>0.11</td>\n",
       "      <td>0.07</td>\n",
       "      <td>0.07</td>\n",
       "      <td>0.123563</td>\n",
       "    </tr>\n",
       "    <tr>\n",
       "      <th>46472</th>\n",
       "      <td>Electric usage</td>\n",
       "      <td>2/18/2018</td>\n",
       "      <td>1:00</td>\n",
       "      <td>1:14</td>\n",
       "      <td>0.05</td>\n",
       "      <td>kWh</td>\n",
       "      <td>$0.01</td>\n",
       "      <td>0.0</td>\n",
       "      <td>2018-02-18 01:14:00</td>\n",
       "      <td>1</td>\n",
       "      <td>0</td>\n",
       "      <td>0.11</td>\n",
       "      <td>0.11</td>\n",
       "      <td>0.11</td>\n",
       "      <td>0.11</td>\n",
       "      <td>0.07</td>\n",
       "      <td>0.138606</td>\n",
       "    </tr>\n",
       "  </tbody>\n",
       "</table>\n",
       "</div>"
      ],
      "text/plain": [
       "                 TYPE       DATE START TIME END TIME  USAGE UNITS    COST  \\\n",
       "46468  Electric usage  2/18/2018       0:00     0:14   0.11   kWh  $0.02    \n",
       "46469  Electric usage  2/18/2018       0:15     0:29   0.11   kWh  $0.02    \n",
       "46470  Electric usage  2/18/2018       0:30     0:44   0.11   kWh  $0.02    \n",
       "46471  Electric usage  2/18/2018       0:45     0:59   0.11   kWh  $0.02    \n",
       "46472  Electric usage  2/18/2018       1:00     1:14   0.05   kWh  $0.01    \n",
       "\n",
       "       NOTES           DATE_TIME  DAY_TYPE  IS_HOLIDAY   T_1   T_2   T_3  \\\n",
       "46468    0.0 2018-02-18 00:14:00         1           0  0.07  0.07  0.07   \n",
       "46469    0.0 2018-02-18 00:29:00         1           0  0.11  0.07  0.07   \n",
       "46470    0.0 2018-02-18 00:44:00         1           0  0.11  0.11  0.07   \n",
       "46471    0.0 2018-02-18 00:59:00         1           0  0.11  0.11  0.11   \n",
       "46472    0.0 2018-02-18 01:14:00         1           0  0.11  0.11  0.11   \n",
       "\n",
       "        T_4   T_5   DL_PRED  \n",
       "46468  0.07  0.27  0.025968  \n",
       "46469  0.07  0.07  0.125423  \n",
       "46470  0.07  0.07  0.122708  \n",
       "46471  0.07  0.07  0.123563  \n",
       "46472  0.11  0.07  0.138606  "
      ]
     },
     "execution_count": 29,
     "metadata": {},
     "output_type": "execute_result"
    }
   ],
   "source": [
    "test_data.head(5)"
   ]
  },
  {
   "cell_type": "code",
   "execution_count": null,
   "id": "0ebd2772",
   "metadata": {},
   "outputs": [],
   "source": []
  }
 ],
 "metadata": {
  "kernelspec": {
   "display_name": "Python 3",
   "language": "python",
   "name": "python3"
  },
  "language_info": {
   "codemirror_mode": {
    "name": "ipython",
    "version": 3
   },
   "file_extension": ".py",
   "mimetype": "text/x-python",
   "name": "python",
   "nbconvert_exporter": "python",
   "pygments_lexer": "ipython3",
   "version": "3.8.5"
  },
  "varInspector": {
   "cols": {
    "lenName": 16,
    "lenType": 16,
    "lenVar": 40
   },
   "kernels_config": {
    "python": {
     "delete_cmd_postfix": "",
     "delete_cmd_prefix": "del ",
     "library": "var_list.py",
     "varRefreshCmd": "print(var_dic_list())"
    },
    "r": {
     "delete_cmd_postfix": ") ",
     "delete_cmd_prefix": "rm(",
     "library": "var_list.r",
     "varRefreshCmd": "cat(var_dic_list()) "
    }
   },
   "types_to_exclude": [
    "module",
    "function",
    "builtin_function_or_method",
    "instance",
    "_Feature"
   ],
   "window_display": false
  }
 },
 "nbformat": 4,
 "nbformat_minor": 5
}
