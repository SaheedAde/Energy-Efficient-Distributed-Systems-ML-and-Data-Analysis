{
 "cells": [
  {
   "cell_type": "code",
   "execution_count": 6,
   "id": "463c18b3",
   "metadata": {},
   "outputs": [
    {
     "name": "stdout",
     "output_type": "stream",
     "text": [
      "<class 'pandas.core.frame.DataFrame'>\n",
      "RangeIndex: 70368 entries, 0 to 70367\n",
      "Data columns (total 8 columns):\n",
      " #   Column      Non-Null Count  Dtype  \n",
      "---  ------      --------------  -----  \n",
      " 0   TYPE        70368 non-null  object \n",
      " 1   DATE        70368 non-null  object \n",
      " 2   START TIME  70368 non-null  object \n",
      " 3   END TIME    70368 non-null  object \n",
      " 4   USAGE       70368 non-null  float64\n",
      " 5   UNITS       70368 non-null  object \n",
      " 6   COST        70368 non-null  object \n",
      " 7   NOTES       0 non-null      float64\n",
      "dtypes: float64(2), object(6)\n",
      "memory usage: 4.3+ MB\n"
     ]
    }
   ],
   "source": [
    "import numpy as np \n",
    "import pandas as pd \n",
    "import seaborn as sns\n",
    "import matplotlib.pyplot as plt\n",
    "\n",
    "df = pd.read_csv(\"D202.csv\")\n",
    "df.info()\n",
    "# categorical_feat = df.select_dtypes(exclude=\"number\")\n",
    "# pd.concat([categorical_feat.head(),categorical_feat.tail()],axis=0)\n",
    "# categorical_feat.drop([\"TYPE\",\"UNITS\"],axis=1,inplace=True)\n",
    "# categorical_feat[\"START\"] = pd.to_datetime(categorical_feat[\"DATE\"]+ ' '+categorical_feat[\"START TIME\"],format=\"%m/%d/%Y %H:%M\")\n",
    "# categorical_feat[\"END\"] = pd.to_datetime(categorical_feat[\"DATE\"]+ ' '+categorical_feat[\"END TIME\"],format=\"%m/%d/%Y %H:%M\")\n",
    "# categorical_feat.drop([\"DATE\",\"START TIME\",\"END TIME\"],axis=1,inplace=True)\n",
    "# categorical_feat[\"COST\"] = categorical_feat[\"COST\"].apply(lambda x: float(x[1:]))\n",
    "# df_trans = pd.concat([categorical_feat, df[\"USAGE\"]], axis = 1)\n",
    "\n",
    "# # Split Data into Different Test and Train Data Percentage\n",
    "# percent = {66: \"17/2/2018\", 70: \"19/3/2018\", 75: \"24/4/2018\", 80: \"31/5/2018\"}\n",
    "\n",
    "# date = percent[70]  # change as desired to another percetage in percent dict\n",
    "# pd_date = pd.to_datetime(date)\n",
    "# training_data = df_trans[df_trans.START < pd_date]"
   ]
  },
  {
   "cell_type": "code",
   "execution_count": null,
   "id": "b21f3e87",
   "metadata": {},
   "outputs": [
    {
     "name": "stdout",
     "output_type": "stream",
     "text": [
      "<class 'pandas.core.frame.DataFrame'>\n",
      "DatetimeIndex: 49248 entries, 2016-10-22 00:00:00 to 2018-03-18 23:45:00\n",
      "Data columns (total 1 columns):\n",
      " #   Column  Non-Null Count  Dtype  \n",
      "---  ------  --------------  -----  \n",
      " 0   USAGE   49248 non-null  float64\n",
      "dtypes: float64(1)\n",
      "memory usage: 769.5 KB\n",
      "Performing stepwise search to minimize aic\n",
      " ARIMA(0,1,0)(0,1,0)[12]             : AIC=514.138, Time=0.16 sec\n",
      " ARIMA(1,1,0)(1,1,0)[12]             : AIC=-122.518, Time=1.49 sec\n",
      " ARIMA(0,1,1)(0,1,1)[12]             : AIC=inf, Time=5.77 sec\n",
      " ARIMA(1,1,0)(0,1,0)[12]             : AIC=516.138, Time=0.39 sec\n",
      " ARIMA(1,1,0)(2,1,0)[12]             : AIC=-411.689, Time=3.54 sec\n",
      " ARIMA(1,1,0)(3,1,0)[12]             : AIC=-667.752, Time=6.03 sec\n"
     ]
    }
   ],
   "source": [
    "from pmdarima.arima import auto_arima\n",
    "\n",
    "usage_df_train = training_data[['START', 'USAGE']]\n",
    "usage_df_train.set_index('START', inplace=True)\n",
    "usage_df_train.info()\n",
    "k = usage_df_train[9000:11000]\n",
    "\n",
    "arima_model = auto_arima(k, start_p=0, d=1, start_q=0,\n",
    "                         max_p=5, max_d=5, max_q=5, start_P=0,\n",
    "                         D=1, start_Q=0, max_P=5, max_D=5, \n",
    "                         max_Q=5, m=12, seasonal=True,\n",
    "                         error_action='warn', trace=True,\n",
    "                         suppress_warnings=True, stepwise=True,\n",
    "                         random_state = 20, n_fits=50)"
   ]
  },
  {
   "cell_type": "code",
   "execution_count": null,
   "id": "293371e4",
   "metadata": {},
   "outputs": [],
   "source": []
  },
  {
   "cell_type": "code",
   "execution_count": null,
   "id": "e14b49f2",
   "metadata": {},
   "outputs": [],
   "source": []
  }
 ],
 "metadata": {
  "kernelspec": {
   "display_name": "Python 3",
   "language": "python",
   "name": "python3"
  },
  "language_info": {
   "codemirror_mode": {
    "name": "ipython",
    "version": 3
   },
   "file_extension": ".py",
   "mimetype": "text/x-python",
   "name": "python",
   "nbconvert_exporter": "python",
   "pygments_lexer": "ipython3",
   "version": "3.8.5"
  },
  "varInspector": {
   "cols": {
    "lenName": 16,
    "lenType": 16,
    "lenVar": 40
   },
   "kernels_config": {
    "python": {
     "delete_cmd_postfix": "",
     "delete_cmd_prefix": "del ",
     "library": "var_list.py",
     "varRefreshCmd": "print(var_dic_list())"
    },
    "r": {
     "delete_cmd_postfix": ") ",
     "delete_cmd_prefix": "rm(",
     "library": "var_list.r",
     "varRefreshCmd": "cat(var_dic_list()) "
    }
   },
   "types_to_exclude": [
    "module",
    "function",
    "builtin_function_or_method",
    "instance",
    "_Feature"
   ],
   "window_display": false
  }
 },
 "nbformat": 4,
 "nbformat_minor": 5
}
